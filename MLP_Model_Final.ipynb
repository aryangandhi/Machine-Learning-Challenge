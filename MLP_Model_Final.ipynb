{
  "cells": [
    {
      "cell_type": "code",
      "execution_count": 11,
      "metadata": {
        "id": "659eJR7WDFZG"
      },
      "outputs": [],
      "source": [
        "import matplotlib.pyplot as plt\n",
        "import numpy as np \n",
        "import pandas as pd\n",
        "import random\n",
        "import re"
      ]
    },
    {
      "cell_type": "code",
      "execution_count": 12,
      "metadata": {
        "id": "-yS-MLxyDK1g"
      },
      "outputs": [],
      "source": [
        "def to_numeric(s):\n",
        "    \"\"\"Converts string `s` to a float.\n",
        "\n",
        "    Invalid strings and NaN values will be converted to float('nan').\n",
        "    \"\"\"\n",
        "\n",
        "    if isinstance(s, str):\n",
        "        s = s.replace(\",\", '')\n",
        "        s = pd.to_numeric(s, errors=\"coerce\")\n",
        "    return float(s)\n",
        "\n",
        "def get_number_list(s):\n",
        "    \"\"\"Get a list of integers contained in string `s`\n",
        "    \"\"\"\n",
        "    return [int(n) for n in re.findall(\"(\\d+)\", str(s))]\n",
        "\n",
        "def get_number_list_clean(s):\n",
        "    \"\"\"Return a clean list of numbers contained in `s`.\n",
        "\n",
        "    Additional cleaning includes removing numbers that are not of interest \n",
        "    and standardizing return list size.\n",
        "    \"\"\"\n",
        "    s = s.replace(\"3-D\", '')\n",
        "    s = s.replace(\"14-dimensional\", '')\n",
        "    n_list = get_number_list(s)\n",
        "    n_list += [-1]*(5-len(n_list))\n",
        "    return n_list\n",
        "\n",
        "def get_number(s):\n",
        "    \"\"\"Get the first number contained in string `s`.\n",
        "\n",
        "    If `s` does not contain any numbers, return -1.\n",
        "    \"\"\"\n",
        "    n_list = get_number_list(s)\n",
        "    return n_list[0] if len(n_list) >= 1 else -1\n",
        "\n",
        "def find_quote_at_rank(l, i):\n",
        "    \"\"\"Return the quote at a certain rank in list `l`.\n",
        "\n",
        "    Quotes are indexed starting at 1 as ordered in the survey.\n",
        "\n",
        "    If quote is not present in `l`, return -1.\n",
        "    \"\"\"\n",
        "    return l.index(i) + 1 if i in l else -1\n",
        "\n",
        "def cat_in_s(s, cat):\n",
        "    \"\"\"Return if a category is present in string `s` as an binary integer.\n",
        "    \"\"\"\n",
        "    return int(cat in s) if not pd.isna(s) else 0\n",
        "\n"
      ]
    },
    {
      "cell_type": "code",
      "execution_count": 13,
      "metadata": {
        "colab": {
          "base_uri": "https://localhost:8080/",
          "height": 641
        },
        "id": "yzMvph0l5I_R",
        "outputId": "81bd01da-730b-40a0-ea9e-c43cca70575b"
      },
      "outputs": [],
      "source": [
        "df = pd.read_csv('data/clean_quercus.csv')"
      ]
    },
    {
      "cell_type": "markdown",
      "metadata": {
        "id": "ubSjvgdZHtAA"
      },
      "source": [
        "# Data Cleaning and Formatting"
      ]
    },
    {
      "cell_type": "code",
      "execution_count": 14,
      "metadata": {
        "colab": {
          "base_uri": "https://localhost:8080/"
        },
        "id": "b0MaZ-wnapgG",
        "outputId": "baecaa79-c989-4a85-c55b-dcc8d6d480da"
      },
      "outputs": [
        {
          "data": {
            "text/plain": [
              "Index(['q_scary_-1', 'q_scary_1', 'q_scary_10', 'q_scary_2', 'q_scary_3',\n",
              "       'q_scary_4', 'q_scary_5', 'q_scary_6', 'q_scary_7', 'q_scary_8',\n",
              "       'q_dream_-1', 'q_dream_1', 'q_dream_2', 'q_dream_3', 'q_dream_4',\n",
              "       'q_desktop_-1', 'q_desktop_1', 'q_desktop_2', 'q_desktop_3',\n",
              "       'q_desktop_4', 'q_desktop_5', 'q_dream_5', 'q_scary_9', 'q_better',\n",
              "       'q_remind', 'q_quote', 'q_sell', 'q_temperature', 'q_story', 'user_id',\n",
              "       'label'],\n",
              "      dtype='object')"
            ]
          },
          "execution_count": 14,
          "metadata": {},
          "output_type": "execute_result"
        }
      ],
      "source": [
        "columns = ['q_scary_-1', 'q_scary_1', 'q_scary_10', 'q_scary_2', 'q_scary_3', 'q_scary_4',\n",
        "               'q_scary_5', 'q_scary_6', 'q_scary_7', 'q_scary_8', 'q_scary_9',\n",
        "               'q_dream_-1', 'q_dream_1', 'q_dream_2', 'q_dream_3', 'q_dream_4', 'q_dream_5', 'q_desktop_-1',\n",
        "               'q_desktop_1', 'q_desktop_2', 'q_desktop_3', 'q_desktop_4',\n",
        "               'q_desktop_5', 'q_sell', 'q_temperature', 'q_better_People',\n",
        "               'q_better_Cars', 'q_better_Cats', 'q_better_Fireworks',\n",
        "               'q_better_Explosions', 'q_remind_Parents', 'q_remind_Siblings',\n",
        "               'q_remind_Friends', 'q_remind_Teacher', 'q_quote_1', 'q_quote_2',\n",
        "               'q_quote_3', 'q_quote_4', 'q_quote_5']\n",
        "\n",
        "\n",
        "df[\"q_scary\"] = df[\"q_scary\"].apply(get_number) # only gets the number\n",
        "df[\"q_dream\"] = df[\"q_dream\"].apply(get_number) # only gets the number\n",
        "df[\"q_desktop\"] = df[\"q_desktop\"].apply(get_number) # only gets the number\n",
        "\n",
        "#Creating dummy variables for 'q_scary' and delete original variable\n",
        "scary_dummies = pd.get_dummies(df[\"q_scary\"], prefix=\"q_scary\")\n",
        "for i, col in enumerate(pd.get_dummies(scary_dummies.columns)):\n",
        "  df.insert(1 + i, col, scary_dummies[col])\n",
        "del df['q_scary']\n",
        "\n",
        "#Creating dummy variables for 'q_dream' and delete original variable\n",
        "dream_dummies = pd.get_dummies(df[\"q_dream\"], prefix=\"q_dream\")\n",
        "for i, col in enumerate(pd.get_dummies(dream_dummies.columns)):\n",
        "  df.insert(10 + i, col, dream_dummies[col])\n",
        "del df['q_dream']\n",
        "\n",
        "#Creating dummy variables for 'q_desktop' and delete original variable\n",
        "desktop_dummies = pd.get_dummies(df[\"q_desktop\"], prefix=\"q_desktop\")\n",
        "for i, col in enumerate(pd.get_dummies(desktop_dummies.columns)):\n",
        "  df.insert(15 + i, col, desktop_dummies[col])\n",
        "del df['q_desktop']\n",
        "\n",
        "df.columns"
      ]
    },
    {
      "cell_type": "code",
      "execution_count": 15,
      "metadata": {
        "colab": {
          "base_uri": "https://localhost:8080/"
        },
        "id": "UXg0fPSSOS4q",
        "outputId": "6c459bff-49ec-41a0-be76-8a34405bed54"
      },
      "outputs": [],
      "source": [
        "# Create multi-category indicators for 'q_better'\n",
        "\n",
        "for cat in [\"People\", \"Cars\", \"Cats\", \"Fireworks\", \"Explosions\"]:\n",
        "    df[f\"q_better_{cat}\"] = df[\"q_better\"].apply(lambda s: cat_in_s(s, cat))\n",
        "\n",
        "del df[\"q_better\"]"
      ]
    },
    {
      "cell_type": "code",
      "execution_count": 16,
      "metadata": {
        "colab": {
          "base_uri": "https://localhost:8080/"
        },
        "id": "6Vpsh0jJCwSV",
        "outputId": "cf27de08-5dfa-416c-d519-d26f610c0302"
      },
      "outputs": [],
      "source": [
        "# Create multi-category indicators for 'q_remind'\n",
        "\n",
        "for cat in [\"Parents\", \"Siblings\", \"Friends\", \"Teacher\"]:\n",
        "    df[f\"q_remind_{cat}\"] = df[\"q_remind\"].apply(lambda s: cat_in_s(s, cat))\n",
        "\n",
        "del df[\"q_remind\"]"
      ]
    },
    {
      "cell_type": "code",
      "execution_count": 17,
      "metadata": {
        "colab": {
          "base_uri": "https://localhost:8080/"
        },
        "id": "8J9ZmU_GJcjW",
        "outputId": "10f1b7fe-60f9-4a91-b730-a6a38c080688"
      },
      "outputs": [
        {
          "name": "stderr",
          "output_type": "stream",
          "text": [
            "c:\\Users\\aryan\\AppData\\Local\\Programs\\Python\\Python310\\lib\\site-packages\\pandas\\core\\indexing.py:1732: SettingWithCopyWarning: \n",
            "A value is trying to be set on a copy of a slice from a DataFrame\n",
            "\n",
            "See the caveats in the documentation: https://pandas.pydata.org/pandas-docs/stable/user_guide/indexing.html#returning-a-view-versus-a-copy\n",
            "  self._setitem_single_block(indexer, value, name)\n"
          ]
        }
      ],
      "source": [
        "# Create multi-category indicators for 'q_quote'\n",
        "df.index = range(0, len(df))\n",
        "df['q_quote_1'] = np.zeros(len(df))\n",
        "df['q_quote_2'] = np.zeros(len(df))\n",
        "df['q_quote_3'] = np.zeros(len(df))\n",
        "df['q_quote_4'] = np.zeros(len(df))\n",
        "df['q_quote_5'] = np.zeros(len(df))\n",
        "\n",
        "for i in range(len(df)):\n",
        "  df['q_quote'].loc[i] = get_number_list_clean(df['q_quote'].loc[i])\n",
        "  for j, num in enumerate(df['q_quote'].loc[i]):\n",
        "    df[f'q_quote_{j+1}'].loc[i] = num\n",
        "\n",
        "del df['q_quote']"
      ]
    },
    {
      "cell_type": "code",
      "execution_count": 18,
      "metadata": {
        "id": "ojhTwaxbPWm5"
      },
      "outputs": [],
      "source": [
        "# Change variables to numeric and normalize the temperature and sell features\n",
        "\n",
        "df['label'] = pd.to_numeric(df['label'])\n",
        "df['q_temperature'] = df[\"q_temperature\"].apply(to_numeric)\n",
        "df[\"q_sell\"] = df[\"q_sell\"].apply(to_numeric) # changes nulls to 0"
      ]
    },
    {
      "cell_type": "code",
      "execution_count": 19,
      "metadata": {
        "id": "B9JgklBl4dR5"
      },
      "outputs": [],
      "source": [
        "df['q_temperature'] = (df[\"q_temperature\"] - np.mean(df[\"q_temperature\"])) / np.std(df[\"q_temperature\"])\n",
        "df['q_sell'] = (df[\"q_sell\"] - np.mean(df[\"q_sell\"])) / np.std(df[\"q_sell\"])"
      ]
    },
    {
      "cell_type": "code",
      "execution_count": 20,
      "metadata": {
        "id": "0HXLPgLrZDCz"
      },
      "outputs": [],
      "source": [
        "#Seperate the targets and features\n",
        "X = df.drop(['label', 'q_story', 'user_id'], axis=1).fillna(0)\n",
        "t = pd.get_dummies(df['label'], prefix='Label')"
      ]
    },
    {
      "cell_type": "code",
      "execution_count": 21,
      "metadata": {
        "id": "i6VIXl83ZL1f"
      },
      "outputs": [],
      "source": [
        "from sklearn.model_selection import train_test_split\n",
        "\n",
        "#Split the training data into training and validation datasets\n",
        "X_train, X_test, t_train, t_test = train_test_split(X, t, test_size = 0.2, random_state = 20)\n",
        "X_valid, X_test, t_valid, t_test = train_test_split(X_test, t_test, test_size = 0.5, random_state = 20)"
      ]
    },
    {
      "cell_type": "code",
      "execution_count": 22,
      "metadata": {
        "id": "Ob2U1IGsZNT4"
      },
      "outputs": [],
      "source": [
        "X_train = X_train.to_numpy()\n",
        "t_train = t_train.to_numpy()\n",
        "X_valid = X_valid.to_numpy()\n",
        "t_valid = t_valid.to_numpy()\n",
        "X_test = X_test.to_numpy()\n",
        "t_test = t_test.to_numpy()"
      ]
    },
    {
      "cell_type": "markdown",
      "metadata": {},
      "source": [
        "# Data Exporation"
      ]
    },
    {
      "cell_type": "code",
      "execution_count": 23,
      "metadata": {},
      "outputs": [],
      "source": [
        "# for fet in df.columns:\n",
        "#     if fet != \"label\":\n",
        "#       plt.figure()\n",
        "#       X = df[fet]\n",
        "#       t = df[\"label\"]\n",
        "#       plt.title(\"Relationship between \" + fet + \" and Label\")\n",
        "#       plt.scatter(t, X)\n",
        "#       plt.xlabel('Label')\n",
        "#       plt.ylabel(fet)\n"
      ]
    },
    {
      "cell_type": "code",
      "execution_count": 24,
      "metadata": {},
      "outputs": [],
      "source": [
        "# for fet in df.columns:\n",
        "#   if fet != \"label\":\n",
        "#     fig, axs = plt.subplots(1, 3, tight_layout=True)\n",
        "#     fig.suptitle(\"Distribution of \" + fet + \" given the Label\")\n",
        "#     X_label_1 = df[fet][df['label'] == 1]\n",
        "#     X_label_2 = df[fet][df['label'] == 2]\n",
        "#     X_label_3 = df[fet][df['label'] == 3]\n",
        "#     axs[0].hist(X_label_1)\n",
        "#     axs[0].set(xlabel='Label 1')\n",
        "\n",
        "#     axs[1].hist(X_label_2)\n",
        "#     axs[1].set(xlabel='Label 2')\n",
        "\n",
        "#     axs[2].hist(X_label_3)\n",
        "#     axs[2].set(xlabel='Label 3')\n"
      ]
    },
    {
      "cell_type": "markdown",
      "metadata": {
        "id": "QUjwweMmVaDL"
      },
      "source": [
        "# Creating MLP prediction model"
      ]
    },
    {
      "cell_type": "code",
      "execution_count": 25,
      "metadata": {
        "id": "KpmT_cacVmrI"
      },
      "outputs": [],
      "source": [
        "def softmax(z):\n",
        "    z = np.transpose(z)\n",
        "    m = z.max(axis=0)\n",
        "    exponent = np.exp(z - m)\n",
        "    return np.transpose(exponent / np.sum(exponent, axis=0))"
      ]
    },
    {
      "cell_type": "code",
      "execution_count": 26,
      "metadata": {
        "id": "pMzLmaLlVtSv"
      },
      "outputs": [],
      "source": [
        "class MLPModel(object):\n",
        "\n",
        "  def __init__(self, num_features=39, num_hidden=10, num_classes=3):\n",
        "    self.num_features = num_features\n",
        "    self.num_hidden = num_hidden\n",
        "    self.num_classes = num_classes\n",
        "    self.weights1 = np.zeros([num_features, num_hidden])\n",
        "    self.bias1 = np.zeros([num_hidden])\n",
        "    self.weights2 = np.zeros([num_hidden, num_classes])\n",
        "    self.bias2 = np.zeros([num_classes])\n",
        "    self.cleanup()\n",
        "    self.initializeParams()\n",
        "\n",
        "  def initializeParams(self):\n",
        "    self.weights1 = np.random.normal(0, 2/self.num_features, self.weights1.shape)\n",
        "    self.bias1 = np.random.normal(0, 2/self.num_features, self.bias1.shape)\n",
        "    self.weights2 = np.random.normal(0, 2/self.num_hidden, self.weights2.shape)\n",
        "    self.bias2 = np.random.normal(0, 2/self.num_hidden, self.bias2.shape)\n",
        "\n",
        "  def forward(self, X):\n",
        "    self.N = X.shape[0]\n",
        "    self.X = X\n",
        "    \n",
        "    self.z1 = np.dot(X, self.weights1) + self.bias1\n",
        "    self.h = np.maximum(np.zeros_like(self.z1), self.z1)\n",
        "    self.z2 = np.dot(self.h, self.weights2) + self.bias2\n",
        "    self.y = softmax(self.z2)\n",
        "\n",
        "    return self.y\n",
        "\n",
        "  def backward(self, ts):\n",
        "    self.z2_bar = (self.y - ts)/self.N\n",
        "    self.w2_bar = np.dot(self.h.T, self.z2_bar)\n",
        "    self.b2_bar = self.z2_bar[0]\n",
        "    self.h_bar = np.dot(self.z2_bar, self.weights2.T)\n",
        "    self.z1_bar = self.h_bar * (self.z1 * (self.z1 > 0)*1)\n",
        "    self.w1_bar = np.dot(self.X.T, self.z1_bar)\n",
        "    self.b1_bar = self.z1_bar[0]\n",
        "\n",
        "\n",
        "  def loss(self, ts):\n",
        "    m = ts.shape[1]\n",
        "\n",
        "    return -(1/m)*np.sum(ts * np.log(self.y))\n",
        "\n",
        "\n",
        "  def update(self, alpha):\n",
        "    self.weights1 = self.weights1 - alpha * self.w1_bar\n",
        "    self.bias1 = self.bias1 - alpha * self.b1_bar\n",
        "    self.weights2 = self.weights2 - alpha * self.w2_bar\n",
        "    self.bias2 = self.bias2 - alpha * self.b2_bar\n",
        "\n",
        "  def cleanup(self):\n",
        "    self.N = None\n",
        "    self.X = None\n",
        "    self.z1 = None\n",
        "    self.h = None\n",
        "    self.z2 = None\n",
        "    self.y = None\n",
        "    self.z2_bar = None\n",
        "    self.w2_bar = None\n",
        "    self.b2_bar = None\n",
        "    self.h_bar = None\n",
        "    self.z1_bar = None\n",
        "    self.w1_bar = None\n",
        "    self.b1_bar = None"
      ]
    },
    {
      "cell_type": "code",
      "execution_count": 27,
      "metadata": {
        "id": "7wqB74ybVwOk"
      },
      "outputs": [],
      "source": [
        "def train_sgd(model, X_train, t_train,\n",
        "              alpha=0.1, n_epochs=0, batch_size=100,\n",
        "              X_valid=None, t_valid=None,\n",
        "              w_init=None, plot=True):\n",
        "    # as before, initialize all the weights to zeros\n",
        "    w = np.zeros(X_train.shape[1])\n",
        "    \n",
        "    train_loss = [] # for the current minibatch, tracked once per iteration\n",
        "    valid_loss = [] # for the entire validation data set, tracked once per epoch\n",
        "\n",
        "    # track the number of iterations\n",
        "    niter = 0\n",
        "\n",
        "    # we will use these indices to help shuffle X_train\n",
        "    N = X_train.shape[0] # number of training data points\n",
        "    indices = list(range(N))\n",
        "    \n",
        "    for e in range(n_epochs):\n",
        "        random.shuffle(indices) # for creating new minibatches\n",
        "\n",
        "        for i in range(0, N, batch_size):\n",
        "            if (i + batch_size) > N:\n",
        "                # At the very end of an epoch, if there are not enough\n",
        "                # data points to form an entire batch, then skip this batch\n",
        "                continue\n",
        "\n",
        "            indices_in_batch = indices[i: i+batch_size]\n",
        "            X_minibatch = X_train[indices_in_batch, :]\n",
        "            # X_minibatch = itemgetter(indices_in_batch)(X_train)\n",
        "            t_minibatch = t_train[indices_in_batch]\n",
        "\n",
        "            # gradient descent iteration\n",
        "            model.cleanup()\n",
        "            model.forward(X_minibatch)\n",
        "            model.backward(t_minibatch)\n",
        "            model.update(alpha)\n",
        "            # Record the current training loss values\n",
        "            train_loss.append(model.loss(t_minibatch))\n",
        "            niter += 1\n",
        "\n",
        "        # compute validation data metrics, if provided, once per epoch\n",
        "        if (X_valid is not None) and (t_valid is not None):\n",
        "            model.cleanup()\n",
        "            model.forward(X_valid)\n",
        "            valid_loss.append((niter, model.loss(t_valid)))\n",
        "\n",
        "    if plot:\n",
        "        plt.title(\"SGD Training Curve Showing Loss at each Iteration\")\n",
        "        plt.plot(train_loss, label=\"Training Loss\")\n",
        "        if (X_valid is not None) and (t_valid is not None): # compute validation data metrics, if provided\n",
        "            plt.plot([iter for (iter, loss) in valid_loss], \n",
        "                     [loss for (iter, loss) in valid_loss],                                \n",
        "                     label=\"Validation Loss\")\n",
        "        plt.xlabel(\"Iterations\")\n",
        "        plt.ylabel(\"Loss\")\n",
        "        plt.legend()\n",
        "        plt.show()\n",
        "        print(\"Final Training Loss:\", train_loss[-1])\n",
        "        if (X_valid is not None) and (t_valid is not None):\n",
        "            print(\"Final Validation Loss:\", valid_loss[-1])\n",
        "    return train_loss[-1], valid_loss[-1]"
      ]
    },
    {
      "cell_type": "code",
      "execution_count": 28,
      "metadata": {
        "colab": {
          "base_uri": "https://localhost:8080/",
          "height": 1000
        },
        "id": "Xh31aX7pVyqT",
        "outputId": "867f5cd9-e6f7-443f-e443-5c16642bf079"
      },
      "outputs": [],
      "source": [
        "train_score = {}\n",
        "valid_score = {}\n",
        "for i in range(1, 25):\n",
        "\tfor j in range(1, 25):\n",
        "\t\tmodel = MLPModel(num_hidden=i)\n",
        "\t\ttrain_score[i, j], valid_score[i,j] = train_sgd(model, X_train=X_train, t_train=t_train, X_valid=X_valid, t_valid=t_valid, alpha=0.01*j, batch_size=50, n_epochs=100, plot=False)"
      ]
    },
    {
      "cell_type": "code",
      "execution_count": 29,
      "metadata": {},
      "outputs": [
        {
          "name": "stdout",
          "output_type": "stream",
          "text": [
            "(15, 2)\n"
          ]
        }
      ],
      "source": [
        "for k in valid_score:\n",
        "    if valid_score[k] == min(valid_score.values()):\n",
        "        print(k)"
      ]
    },
    {
      "cell_type": "code",
      "execution_count": 30,
      "metadata": {},
      "outputs": [
        {
          "name": "stdout",
          "output_type": "stream",
          "text": [
            "(19, 14)\n"
          ]
        }
      ],
      "source": [
        "for k in train_score:\n",
        "    if train_score[k] == min(train_score.values()):\n",
        "        print(k)"
      ]
    },
    {
      "cell_type": "code",
      "execution_count": 35,
      "metadata": {},
      "outputs": [
        {
          "data": {
            "image/png": "[encoded data removed]",
            "text/plain": [
              "<Figure size 640x480 with 1 Axes>"
            ]
          },
          "metadata": {},
          "output_type": "display_data"
        },
        {
          "name": "stdout",
          "output_type": "stream",
          "text": [
            "Final Training Loss: 15.208039995985482\n",
            "Final Validation Loss: (900, 19.212696459116582)\n"
          ]
        },
        {
          "data": {
            "text/plain": [
              "(15.208039995985482, (900, 19.212696459116582))"
            ]
          },
          "execution_count": 35,
          "metadata": {},
          "output_type": "execute_result"
        }
      ],
      "source": [
        "i,j = k\n",
        "model = MLPModel(num_hidden=i)\n",
        "train_sgd(model, X_train=X_train, t_train=t_train, X_valid=X_valid, t_valid=t_valid, alpha=0.01*j, batch_size=50, n_epochs=100, plot=True)"
      ]
    },
    {
      "cell_type": "code",
      "execution_count": 40,
      "metadata": {},
      "outputs": [
        {
          "data": {
            "text/plain": [
              "0.65"
            ]
          },
          "execution_count": 40,
          "metadata": {},
          "output_type": "execute_result"
        }
      ],
      "source": [
        "model.cleanup()\n",
        "test_predictions = np.argmax(model.forward(X_test), axis=1)\n",
        "\n",
        "test_labels = np.argmax(t_test, axis=1)\n",
        "\n",
        "test_accuracy = sum(test_labels == test_predictions) / X_test.shape[0]\n",
        "test_accuracy"
      ]
    },
    {
      "cell_type": "code",
      "execution_count": 43,
      "metadata": {},
      "outputs": [],
      "source": [
        "import pickle\n",
        "\n",
        "file_name = 'model.pkl'\n",
        "\n",
        "f = open(file_name, 'wb')\n",
        "\n",
        "pickle.dump(model, f)\n",
        "\n",
        "f.close()"
      ]
    }
  ],
  "metadata": {
    "colab": {
      "collapsed_sections": [
        "VbhykYQaWPUJ",
        "8nvWa7nLLXMR"
      ],
      "provenance": []
    },
    "kernelspec": {
      "display_name": "Python 3.10.4 64-bit",
      "language": "python",
      "name": "python3"
    },
    "language_info": {
      "codemirror_mode": {
        "name": "ipython",
        "version": 3
      },
      "file_extension": ".py",
      "mimetype": "text/x-python",
      "name": "python",
      "nbconvert_exporter": "python",
      "pygments_lexer": "ipython3",
      "version": "3.10.4"
    },
    "vscode": {
      "interpreter": {
        "hash": "287ee184d78959fade4213e06aa8453c71d17316fcbc60aa682b94ecd5afe758"
      }
    }
  },
  "nbformat": 4,
  "nbformat_minor": 0
}
